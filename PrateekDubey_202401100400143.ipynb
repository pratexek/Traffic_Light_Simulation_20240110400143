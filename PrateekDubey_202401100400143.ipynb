{
  "nbformat": 4,
  "nbformat_minor": 0,
  "metadata": {
    "colab": {
      "provenance": []
    },
    "kernelspec": {
      "name": "python3",
      "display_name": "Python 3"
    },
    "language_info": {
      "name": "python"
    }
  },
  "cells": [
    {
      "cell_type": "code",
      "execution_count": 13,
      "metadata": {
        "colab": {
          "base_uri": "https://localhost:8080/",
          "height": 816
        },
        "id": "bz1565bZOM_m",
        "outputId": "b49136c4-de07-4515-c879-226f82dfbdb6"
      },
      "outputs": [
        {
          "output_type": "display_data",
          "data": {
            "text/plain": [
              "<Figure size 300x600 with 1 Axes>"
            ],
            "image/png": "[encoded data removed]"
          },
          "metadata": {}
        },
        {
          "output_type": "error",
          "ename": "KeyboardInterrupt",
          "evalue": "",
          "traceback": [
            "\u001b[0;31m---------------------------------------------------------------------------\u001b[0m",
            "\u001b[0;31mKeyboardInterrupt\u001b[0m                         Traceback (most recent call last)",
            "\u001b[0;32m<ipython-input-13-2f4fc22686ae>\u001b[0m in \u001b[0;36m<cell line: 0>\u001b[0;34m()\u001b[0m\n\u001b[1;32m     55\u001b[0m \u001b[0;34m\u001b[0m\u001b[0m\n\u001b[1;32m     56\u001b[0m \u001b[0;31m# Run the simulation\u001b[0m\u001b[0;34m\u001b[0m\u001b[0;34m\u001b[0m\u001b[0m\n\u001b[0;32m---> 57\u001b[0;31m \u001b[0mtraffic_light_simulation\u001b[0m\u001b[0;34m(\u001b[0m\u001b[0;34m)\u001b[0m\u001b[0;34m\u001b[0m\u001b[0;34m\u001b[0m\u001b[0m\n\u001b[0m",
            "\u001b[0;32m<ipython-input-13-2f4fc22686ae>\u001b[0m in \u001b[0;36mtraffic_light_simulation\u001b[0;34m()\u001b[0m\n\u001b[1;32m     52\u001b[0m                 \u001b[0mclear_output\u001b[0m\u001b[0;34m(\u001b[0m\u001b[0mwait\u001b[0m\u001b[0;34m=\u001b[0m\u001b[0;32mTrue\u001b[0m\u001b[0;34m)\u001b[0m\u001b[0;34m\u001b[0m\u001b[0;34m\u001b[0m\u001b[0m\n\u001b[1;32m     53\u001b[0m                 \u001b[0mdraw_traffic_light\u001b[0m\u001b[0;34m(\u001b[0m\u001b[0mstate\u001b[0m\u001b[0;34m,\u001b[0m \u001b[0mt\u001b[0m\u001b[0;34m)\u001b[0m\u001b[0;34m\u001b[0m\u001b[0;34m\u001b[0m\u001b[0m\n\u001b[0;32m---> 54\u001b[0;31m                 \u001b[0mtime\u001b[0m\u001b[0;34m.\u001b[0m\u001b[0msleep\u001b[0m\u001b[0;34m(\u001b[0m\u001b[0;36m1\u001b[0m\u001b[0;34m)\u001b[0m\u001b[0;34m\u001b[0m\u001b[0;34m\u001b[0m\u001b[0m\n\u001b[0m\u001b[1;32m     55\u001b[0m \u001b[0;34m\u001b[0m\u001b[0m\n\u001b[1;32m     56\u001b[0m \u001b[0;31m# Run the simulation\u001b[0m\u001b[0;34m\u001b[0m\u001b[0;34m\u001b[0m\u001b[0m\n",
            "\u001b[0;31mKeyboardInterrupt\u001b[0m: "
          ]
        }
      ],
      "source": [
        "import matplotlib.pyplot as plt\n",
        "import matplotlib.patches as patches\n",
        "import time\n",
        "from IPython.display import display, clear_output\n",
        "\n",
        "# Function to draw the traffic light with timer and message\n",
        "def draw_traffic_light(state, timer):\n",
        "    fig, ax = plt.subplots(figsize=(3, 6))\n",
        "    ax.set_xlim(0, 3)\n",
        "    ax.set_ylim(0, 6)\n",
        "    ax.set_xticks([])\n",
        "    ax.set_yticks([])\n",
        "    ax.set_frame_on(False)\n",
        "\n",
        "    # Draw traffic light box\n",
        "    box = patches.Rectangle((0.5, 1), 2, 4, linewidth=2, edgecolor='black', facecolor='black')\n",
        "    ax.add_patch(box)\n",
        "\n",
        "    # Draw traffic lights (default gray)\n",
        "    colors = ['gray', 'gray', 'gray']\n",
        "    message = \"\"\n",
        "    if state == 0:\n",
        "        colors[0] = 'red'   # Red light on\n",
        "        message = \"STOP\"\n",
        "    elif state == 1:\n",
        "        colors[1] = 'yellow' # Yellow light on\n",
        "        message = \"READY TO GO\"\n",
        "    elif state == 2:\n",
        "        colors[2] = 'green' # Green light on\n",
        "        message = \"GO\"\n",
        "\n",
        "    ax.add_patch(patches.Circle((1.5, 4.5), 0.5, color=colors[0])) # Red light\n",
        "    ax.add_patch(patches.Circle((1.5, 3), 0.5, color=colors[1]))   # Yellow light\n",
        "    ax.add_patch(patches.Circle((1.5, 1.5), 0.5, color=colors[2])) # Green light\n",
        "\n",
        "    # Display Timer\n",
        "    ax.text(1.5, 0.5, f'Time: {timer}s', fontsize=12, ha='center', color='black')\n",
        "\n",
        "    # Display Message\n",
        "    ax.text(1.5, -0.5, message, fontsize=14, ha='center', color='black', fontweight='bold')\n",
        "\n",
        "    plt.show()\n",
        "\n",
        "# Function to change traffic light states with timer and message\n",
        "def traffic_light_simulation():\n",
        "    states = [0, 1, 2]  # Red -> Yellow -> Green\n",
        "    delays = [10, 5, 10]  # Corresponding delays\n",
        "\n",
        "    while True:\n",
        "        for state, delay in zip(states, delays):\n",
        "            for t in range(delay, 0, -1):\n",
        "                clear_output(wait=True)\n",
        "                draw_traffic_light(state, t)\n",
        "                time.sleep(1)\n",
        "\n",
        "# Run the simulation\n",
        "traffic_light_simulation()\n"
      ]
    }
  ]
}